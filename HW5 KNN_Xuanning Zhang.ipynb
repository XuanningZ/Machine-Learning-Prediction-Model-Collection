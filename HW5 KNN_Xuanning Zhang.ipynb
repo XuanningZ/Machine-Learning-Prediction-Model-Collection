{
 "cells": [
  {
   "cell_type": "code",
   "execution_count": 85,
   "id": "7be81d55",
   "metadata": {
    "scrolled": true
   },
   "outputs": [],
   "source": [
    "import pandas as pd\n",
    "import numpy as np\n",
    "from sklearn.model_selection import train_test_split\n",
    "from sklearn.preprocessing import StandardScaler\n",
    "from sklearn.neighbors import KNeighborsRegressor\n",
    "from sklearn import metrics\n",
    "from math import sqrt\n",
    "\n",
    "#Import data\n",
    "data = pd.read_excel('/Users/jason/Documents/Machine Learning/Absenteeism_at_work.xls')"
   ]
  },
  {
   "cell_type": "code",
   "execution_count": 86,
   "id": "560fec2d",
   "metadata": {},
   "outputs": [
    {
     "data": {
      "text/plain": [
       "(740, 21)"
      ]
     },
     "execution_count": 86,
     "metadata": {},
     "output_type": "execute_result"
    }
   ],
   "source": [
    "data.shape"
   ]
  },
  {
   "cell_type": "code",
   "execution_count": 87,
   "id": "6bb0f3f3",
   "metadata": {},
   "outputs": [
    {
     "data": {
      "text/html": [
       "<div>\n",
       "<style scoped>\n",
       "    .dataframe tbody tr th:only-of-type {\n",
       "        vertical-align: middle;\n",
       "    }\n",
       "\n",
       "    .dataframe tbody tr th {\n",
       "        vertical-align: top;\n",
       "    }\n",
       "\n",
       "    .dataframe thead th {\n",
       "        text-align: right;\n",
       "    }\n",
       "</style>\n",
       "<table border=\"1\" class=\"dataframe\">\n",
       "  <thead>\n",
       "    <tr style=\"text-align: right;\">\n",
       "      <th></th>\n",
       "      <th>ID</th>\n",
       "      <th>Reason for absence</th>\n",
       "      <th>Month of absence</th>\n",
       "      <th>Day of the week</th>\n",
       "      <th>Seasons</th>\n",
       "      <th>Transportation expense</th>\n",
       "      <th>Distance from Residence to Work</th>\n",
       "      <th>Service time</th>\n",
       "      <th>Age</th>\n",
       "      <th>Work load Average/day</th>\n",
       "      <th>...</th>\n",
       "      <th>Disciplinary failure</th>\n",
       "      <th>Education</th>\n",
       "      <th>Son</th>\n",
       "      <th>Social drinker</th>\n",
       "      <th>Social smoker</th>\n",
       "      <th>Pet</th>\n",
       "      <th>Weight</th>\n",
       "      <th>Height</th>\n",
       "      <th>Body mass index</th>\n",
       "      <th>Absenteeism time in hours</th>\n",
       "    </tr>\n",
       "  </thead>\n",
       "  <tbody>\n",
       "    <tr>\n",
       "      <th>0</th>\n",
       "      <td>11</td>\n",
       "      <td>26</td>\n",
       "      <td>7</td>\n",
       "      <td>3</td>\n",
       "      <td>1</td>\n",
       "      <td>289</td>\n",
       "      <td>36</td>\n",
       "      <td>13</td>\n",
       "      <td>33</td>\n",
       "      <td>239554</td>\n",
       "      <td>...</td>\n",
       "      <td>0</td>\n",
       "      <td>1</td>\n",
       "      <td>2</td>\n",
       "      <td>1</td>\n",
       "      <td>0</td>\n",
       "      <td>1</td>\n",
       "      <td>90</td>\n",
       "      <td>172</td>\n",
       "      <td>30</td>\n",
       "      <td>4</td>\n",
       "    </tr>\n",
       "    <tr>\n",
       "      <th>1</th>\n",
       "      <td>36</td>\n",
       "      <td>0</td>\n",
       "      <td>7</td>\n",
       "      <td>3</td>\n",
       "      <td>1</td>\n",
       "      <td>118</td>\n",
       "      <td>13</td>\n",
       "      <td>18</td>\n",
       "      <td>50</td>\n",
       "      <td>239554</td>\n",
       "      <td>...</td>\n",
       "      <td>1</td>\n",
       "      <td>1</td>\n",
       "      <td>1</td>\n",
       "      <td>1</td>\n",
       "      <td>0</td>\n",
       "      <td>0</td>\n",
       "      <td>98</td>\n",
       "      <td>178</td>\n",
       "      <td>31</td>\n",
       "      <td>0</td>\n",
       "    </tr>\n",
       "    <tr>\n",
       "      <th>2</th>\n",
       "      <td>3</td>\n",
       "      <td>23</td>\n",
       "      <td>7</td>\n",
       "      <td>4</td>\n",
       "      <td>1</td>\n",
       "      <td>179</td>\n",
       "      <td>51</td>\n",
       "      <td>18</td>\n",
       "      <td>38</td>\n",
       "      <td>239554</td>\n",
       "      <td>...</td>\n",
       "      <td>0</td>\n",
       "      <td>1</td>\n",
       "      <td>0</td>\n",
       "      <td>1</td>\n",
       "      <td>0</td>\n",
       "      <td>0</td>\n",
       "      <td>89</td>\n",
       "      <td>170</td>\n",
       "      <td>31</td>\n",
       "      <td>2</td>\n",
       "    </tr>\n",
       "    <tr>\n",
       "      <th>3</th>\n",
       "      <td>7</td>\n",
       "      <td>7</td>\n",
       "      <td>7</td>\n",
       "      <td>5</td>\n",
       "      <td>1</td>\n",
       "      <td>279</td>\n",
       "      <td>5</td>\n",
       "      <td>14</td>\n",
       "      <td>39</td>\n",
       "      <td>239554</td>\n",
       "      <td>...</td>\n",
       "      <td>0</td>\n",
       "      <td>1</td>\n",
       "      <td>2</td>\n",
       "      <td>1</td>\n",
       "      <td>1</td>\n",
       "      <td>0</td>\n",
       "      <td>68</td>\n",
       "      <td>168</td>\n",
       "      <td>24</td>\n",
       "      <td>4</td>\n",
       "    </tr>\n",
       "    <tr>\n",
       "      <th>4</th>\n",
       "      <td>11</td>\n",
       "      <td>23</td>\n",
       "      <td>7</td>\n",
       "      <td>5</td>\n",
       "      <td>1</td>\n",
       "      <td>289</td>\n",
       "      <td>36</td>\n",
       "      <td>13</td>\n",
       "      <td>33</td>\n",
       "      <td>239554</td>\n",
       "      <td>...</td>\n",
       "      <td>0</td>\n",
       "      <td>1</td>\n",
       "      <td>2</td>\n",
       "      <td>1</td>\n",
       "      <td>0</td>\n",
       "      <td>1</td>\n",
       "      <td>90</td>\n",
       "      <td>172</td>\n",
       "      <td>30</td>\n",
       "      <td>2</td>\n",
       "    </tr>\n",
       "  </tbody>\n",
       "</table>\n",
       "<p>5 rows × 21 columns</p>\n",
       "</div>"
      ],
      "text/plain": [
       "   ID  Reason for absence  Month of absence  Day of the week  Seasons  \\\n",
       "0  11                  26                 7                3        1   \n",
       "1  36                   0                 7                3        1   \n",
       "2   3                  23                 7                4        1   \n",
       "3   7                   7                 7                5        1   \n",
       "4  11                  23                 7                5        1   \n",
       "\n",
       "   Transportation expense  Distance from Residence to Work  Service time  Age  \\\n",
       "0                     289                               36            13   33   \n",
       "1                     118                               13            18   50   \n",
       "2                     179                               51            18   38   \n",
       "3                     279                                5            14   39   \n",
       "4                     289                               36            13   33   \n",
       "\n",
       "   Work load Average/day   ...  Disciplinary failure  Education  Son  \\\n",
       "0                  239554  ...                     0          1    2   \n",
       "1                  239554  ...                     1          1    1   \n",
       "2                  239554  ...                     0          1    0   \n",
       "3                  239554  ...                     0          1    2   \n",
       "4                  239554  ...                     0          1    2   \n",
       "\n",
       "   Social drinker  Social smoker  Pet  Weight  Height  Body mass index  \\\n",
       "0               1              0    1      90     172               30   \n",
       "1               1              0    0      98     178               31   \n",
       "2               1              0    0      89     170               31   \n",
       "3               1              1    0      68     168               24   \n",
       "4               1              0    1      90     172               30   \n",
       "\n",
       "   Absenteeism time in hours  \n",
       "0                          4  \n",
       "1                          0  \n",
       "2                          2  \n",
       "3                          4  \n",
       "4                          2  \n",
       "\n",
       "[5 rows x 21 columns]"
      ]
     },
     "execution_count": 87,
     "metadata": {},
     "output_type": "execute_result"
    }
   ],
   "source": [
    "data.head()"
   ]
  },
  {
   "cell_type": "code",
   "execution_count": 88,
   "id": "d448abf9",
   "metadata": {},
   "outputs": [],
   "source": [
    "X = data.drop('Absenteeism time in hours', axis=1)\n",
    "y = data['Absenteeism time in hours']\n",
    "\n",
    "#Splitting the data into training and testing sets\n",
    "X_train, X_test, y_train, y_test = train_test_split(X, y, test_size=0.2, random_state=42)\n",
    "\n",
    "#Feature scaling\n",
    "scaler = StandardScaler()\n",
    "X_train_scaled = scaler.fit_transform(X_train)\n",
    "X_test_scaled = scaler.transform(X_test)"
   ]
  },
  {
   "cell_type": "code",
   "execution_count": 89,
   "id": "6e5697f5",
   "metadata": {},
   "outputs": [
    {
     "name": "stdout",
     "output_type": "stream",
     "text": [
      "Mean Squared Error (MSE): 132.7140540540541\n",
      "Root Mean Squared Error (RMSE): 11.520158595004414\n",
      "Mean Absolute Error (MAE): 5.205405405405406\n"
     ]
    }
   ],
   "source": [
    "#Applying KNN\n",
    "knn = KNeighborsRegressor(n_neighbors=5)\n",
    "knn.fit(X_train_scaled, y_train)\n",
    "\n",
    "#Predicting and evaluating the model\n",
    "y_pred = knn.predict(X_test_scaled)\n",
    "mse = mean_squared_error(y_test, y_pred)\n",
    "rmse = sqrt(mse)\n",
    "mae = mean_absolute_error(y_test, y_pred)\n",
    "\n",
    "print(\"Mean Squared Error (MSE):\", mse)\n",
    "print(\"Root Mean Squared Error (RMSE):\", rmse)\n",
    "print(\"Mean Absolute Error (MAE):\", mae)"
   ]
  },
  {
   "cell_type": "code",
   "execution_count": 90,
   "id": "c8d6e8a3",
   "metadata": {
    "scrolled": true
   },
   "outputs": [
    {
     "data": {
      "text/plain": [
       "[('Month of absence', 0.537843121922208),\n",
       " ('Disciplinary failure', 0.4355818559141227),\n",
       " ('Education', 0.2090956611452679),\n",
       " ('Social smoker', 0.1256735094613468),\n",
       " ('Hit target', 0.12163470978120827),\n",
       " ('Distance from Residence to Work', 0.0683259035386552),\n",
       " ('Service time', 0.02875032736991301),\n",
       " ('Reason for absence', -0.1048180394186975),\n",
       " ('Transportation expense', -0.16037890547721823),\n",
       " ('Pet', -0.19311609080712877),\n",
       " ('Weight', -0.20882727564963943),\n",
       " ('Height', -0.21835295117869613),\n",
       " ('Son', -0.2190703910041183),\n",
       " ('ID', -0.4119804535798881),\n",
       " ('Seasons', -0.42824530015124296),\n",
       " ('Social drinker', -0.5380724445402763),\n",
       " ('Day of the week', -0.5735683570427383),\n",
       " ('Body mass index', -0.7113158687417585),\n",
       " ('Work load Average/day ', -0.7286955025560271),\n",
       " ('Age', -1.142570998442082)]"
      ]
     },
     "execution_count": 90,
     "metadata": {},
     "output_type": "execute_result"
    }
   ],
   "source": [
    "#Estimate feature importance to improve model\n",
    "importance_scores = {}\n",
    "\n",
    "#Iterating over all the features\n",
    "for col in X_train.columns:\n",
    "# Drop the feature\n",
    "    X_train_temp = X_train.drop(col, axis=1)\n",
    "    X_test_temp = X_test.drop(col, axis=1)\n",
    "\n",
    "#Scale the features\n",
    "    scaler_temp = StandardScaler()\n",
    "    X_train_temp_scaled = scaler_temp.fit_transform(X_train_temp)\n",
    "    X_test_temp_scaled = scaler_temp.transform(X_test_temp)\n",
    "\n",
    "#Predictions\n",
    "    knn_temp = KNeighborsRegressor(n_neighbors=5)\n",
    "    knn_temp.fit(X_train_temp_scaled, y_train)\n",
    "    y_pred_temp = knn_temp.predict(X_test_temp_scaled)\n",
    "\n",
    "#Calculate the error\n",
    "    mse_temp = mean_squared_error(y_test, y_pred_temp)\n",
    "    rmse_temp = sqrt(mse_temp)\n",
    "\n",
    "#Importance scores - increase in error when drop the feature (compared to original RMSE)\n",
    "    error_increase = rmse_temp - rmse\n",
    "    importance_scores[col] = error_increase\n",
    "\n",
    "#Sorting features by importance scores\n",
    "sorted_importance = sorted(importance_scores.items(), key=lambda x: x[1], reverse=True)\n",
    "\n",
    "sorted_importance\n",
    "\n"
   ]
  },
  {
   "cell_type": "code",
   "execution_count": 91,
   "id": "1d3d32db",
   "metadata": {},
   "outputs": [
    {
     "name": "stdout",
     "output_type": "stream",
     "text": [
      "[('Month of absence', 0.537843121922208), ('Disciplinary failure', 0.4355818559141227), ('Education', 0.2090956611452679), ('Social smoker', 0.1256735094613468), ('Hit target', 0.12163470978120827), ('Distance from Residence to Work', 0.0683259035386552), ('Service time', 0.02875032736991301), ('Reason for absence', -0.1048180394186975), ('Transportation expense', -0.16037890547721823), ('Pet', -0.19311609080712877)]\n"
     ]
    }
   ],
   "source": [
    "#We select top 10 features\n",
    "top_10_features = sorted(importance_scores.items(), key = lambda x: x[1], reverse=True)[:10]\n",
    "print(top_10_features)"
   ]
  },
  {
   "cell_type": "code",
   "execution_count": 92,
   "id": "edccb3dd",
   "metadata": {
    "scrolled": true
   },
   "outputs": [
    {
     "name": "stdout",
     "output_type": "stream",
     "text": [
      "['Month of absence', 'Disciplinary failure', 'Education', 'Social smoker', 'Hit target', 'Distance from Residence to Work', 'Service time', 'Reason for absence', 'Transportation expense', 'Pet']\n"
     ]
    }
   ],
   "source": [
    "#Get the name of the top 10 features\n",
    "top_10_features_nm = [item[0] for item in top_10_features]\n",
    "print(top_10_features_nm)"
   ]
  },
  {
   "cell_type": "code",
   "execution_count": 93,
   "id": "0e280ff6",
   "metadata": {
    "scrolled": false
   },
   "outputs": [],
   "source": [
    "#Select top 10 features\n",
    "X_train_top = X_train[top_10_features_nm]\n",
    "X_test_top = X_test[top_10_features_nm]"
   ]
  },
  {
   "cell_type": "code",
   "execution_count": 94,
   "id": "db6c11c3",
   "metadata": {},
   "outputs": [],
   "source": [
    "#Feature scaling\n",
    "scaler = StandardScaler()\n",
    "X_train_scaled_top = scaler.fit_transform(X_train_top)\n",
    "X_test_scaled_top = scaler.transform(X_test_top)"
   ]
  },
  {
   "cell_type": "code",
   "execution_count": 95,
   "id": "90fbd414",
   "metadata": {
    "scrolled": true
   },
   "outputs": [
    {
     "name": "stdout",
     "output_type": "stream",
     "text": [
      "Mean Squared Error (MSE): 97.61567567567567\n",
      "Root Mean Squared Error (RMSE): 9.880064558274691\n",
      "Mean Absolute Error (MAE): 4.481081081081081\n"
     ]
    }
   ],
   "source": [
    "#Re-fitting the model\n",
    "knn = KNeighborsRegressor(n_neighbors=5)\n",
    "knn.fit(X_train_scaled_top, y_train)\n",
    "\n",
    "#Predicting and evaluating the model again\n",
    "y_pred_top = knn.predict(X_test_scaled_top)\n",
    "mse = mean_squared_error(y_test, y_pred_top)\n",
    "rmse = sqrt(mse)\n",
    "mae = mean_absolute_error(y_test, y_pred_top)\n",
    "print(\"Mean Squared Error (MSE):\", mse)\n",
    "print(\"Root Mean Squared Error (RMSE):\", rmse)\n",
    "print(\"Mean Absolute Error (MAE):\", mae)\n",
    "#Error is less than before"
   ]
  },
  {
   "cell_type": "markdown",
   "id": "1dbe6eb5",
   "metadata": {},
   "source": [
    "# The result shows that when only the top 10 important features are selected for modeling, the error can be reduced and the accuracy of the model can be improved"
   ]
  }
 ],
 "metadata": {
  "kernelspec": {
   "display_name": "Python 3 (ipykernel)",
   "language": "python",
   "name": "python3"
  },
  "language_info": {
   "codemirror_mode": {
    "name": "ipython",
    "version": 3
   },
   "file_extension": ".py",
   "mimetype": "text/x-python",
   "name": "python",
   "nbconvert_exporter": "python",
   "pygments_lexer": "ipython3",
   "version": "3.10.9"
  }
 },
 "nbformat": 4,
 "nbformat_minor": 5
}
